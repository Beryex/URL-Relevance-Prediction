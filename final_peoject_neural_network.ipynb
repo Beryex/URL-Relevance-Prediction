{
 "cells": [
  {
   "cell_type": "code",
   "execution_count": 1,
   "metadata": {},
   "outputs": [],
   "source": [
    "\"\"\" Import Package \"\"\"\n",
    "import pandas as pd\n",
    "import numpy as np\n",
    "import torch\n",
    "import torch.nn as nn\n",
    "import torch.optim as optim\n",
    "from torch.utils.data import Dataset, DataLoader, random_split\n",
    "import os\n",
    "import random\n",
    "from tqdm import tqdm\n",
    "import wandb\n",
    "import time\n",
    "import copy\n",
    "from sklearn.preprocessing import StandardScaler\n",
    "from torch.optim.lr_scheduler import _LRScheduler\n",
    "from sklearn.ensemble import IsolationForest\n",
    "from sklearn.model_selection import KFold, cross_val_score\n",
    "from sklearn.metrics import accuracy_score\n",
    "import seaborn as sns\n",
    "import matplotlib.pyplot as plt\n",
    "from itertools import combinations\n",
    "\n",
    "\"\"\" Global variables \"\"\"\n",
    "DATA = \"./data\"\n",
    "TRAIN_DATA_PATH = f\"{DATA}/training.csv\"\n",
    "TEST_DATA_PATH = f\"{DATA}/test.csv\"\n",
    "OUTPUT_PREDICTION = f\"{DATA}/predictions.csv\""
   ]
  },
  {
   "cell_type": "markdown",
   "metadata": {},
   "source": [
    "First, we want to find the relationthips among the features in the dataset in order to help us decide how to utilize the combination of features."
   ]
  },
  {
   "cell_type": "code",
   "execution_count": 2,
   "metadata": {},
   "outputs": [
    {
     "data": {
      "text/plain": [
       "\"train_dataset = pd.read_csv(TRAIN_DATA_PATH)\\n\\nfeatures = train_dataset[['query_length', 'is_homepage', 'sig1', 'sig2', \\n                          'sig3', 'sig4', 'sig5', 'sig6', 'sig7', 'sig8']]\\nsns.pairplot(features)\\nplt.show()\""
      ]
     },
     "execution_count": 2,
     "metadata": {},
     "output_type": "execute_result"
    }
   ],
   "source": [
    "\"\"\" Visualize the relationships among features \"\"\"\n",
    "'''train_dataset = pd.read_csv(TRAIN_DATA_PATH)\n",
    "\n",
    "features = train_dataset[['query_length', 'is_homepage', 'sig1', 'sig2', \n",
    "                          'sig3', 'sig4', 'sig5', 'sig6', 'sig7', 'sig8']]\n",
    "sns.pairplot(features)\n",
    "plt.show()'''"
   ]
  },
  {
   "cell_type": "code",
   "execution_count": 3,
   "metadata": {},
   "outputs": [
    {
     "name": "stdout",
     "output_type": "stream",
     "text": [
      "torch.Size([1024, 10])\n",
      "torch.Size([1024, 1])\n",
      "10\n",
      "(77685, 10)\n"
     ]
    }
   ],
   "source": [
    "\"\"\" Load dataset \"\"\"\n",
    "class SearchEngineDataLoader(Dataset):\n",
    "    \"\"\" Preprocess dataset \"\"\"\n",
    "    def __init__(self, file_path: str, train: bool, features: list, z_thresh=4.0):\n",
    "        self.data = pd.read_csv(file_path)\n",
    "        self.features = self.data[features].values\n",
    "        if train:\n",
    "            self.labels = self.data['relevance'].values\n",
    "        else:\n",
    "            self.labels = None\n",
    "        \n",
    "        pairwise_features = []\n",
    "        '''for (f1, f2) in combinations([f for f in features if f.startswith('sig')], 2):\n",
    "            self.data[f'{f1}_{f2}'] = self.data[f1] * self.data[f2]\n",
    "            pairwise_features.append(f'{f1}_{f2}')'''\n",
    "        \n",
    "        # combine original and new features\n",
    "        self.features_list = features + pairwise_features\n",
    "        self.features = self.data[self.features_list].values\n",
    "\n",
    "        # remove outliers\n",
    "        if train == True:\n",
    "            self.features, self.labels = self.remove_outliers(self.features, self.labels, z_thresh)\n",
    "\n",
    "        # standardize data \n",
    "        scaler = StandardScaler()\n",
    "        self.features = scaler.fit_transform(self.features)\n",
    "    \n",
    "    def __len__(self):\n",
    "        return len(self.features)\n",
    "\n",
    "    def __getitem__(self, idx):\n",
    "        features = torch.tensor(self.features[idx], dtype=torch.float32)\n",
    "        if self.labels is not None:\n",
    "            label = torch.tensor(self.labels[idx], dtype=torch.float32).unsqueeze(0)\n",
    "            return features, label\n",
    "        else:\n",
    "            return features\n",
    "    \n",
    "    def remove_outliers(self, features, labels, z_thresh):\n",
    "        z_scores = np.abs((features - features.mean(axis=0)) / features.std(axis=0))\n",
    "        mask = (z_scores < z_thresh).all(axis=1)\n",
    "        features = features[mask]\n",
    "        if labels is not None:\n",
    "            labels = labels[mask]\n",
    "        return features, labels\n",
    "    \n",
    "    def get_raw_feature(self, feature_name):\n",
    "        \"\"\"Method to access raw feature data\"\"\"\n",
    "        return self.data[feature_name].values\n",
    "\n",
    "\n",
    "def get_dataset(train_file_path: str,\n",
    "                test_file_path: str,\n",
    "                features: list):\n",
    "    \"\"\" Create Dataset \"\"\"\n",
    "    train_dataset = SearchEngineDataLoader(train_file_path,\n",
    "                                           train=True,\n",
    "                                           features=features)\n",
    "    test_dataset = SearchEngineDataLoader(test_file_path,\n",
    "                                          train=False,\n",
    "                                          features=features)\n",
    "    return train_dataset, test_dataset\n",
    "\n",
    "\n",
    "def get_dataloader(train_dataset: SearchEngineDataLoader,\n",
    "                   test_dataset: SearchEngineDataLoader,\n",
    "                   batch_size: int, \n",
    "                   val_proportion: float = 0,\n",
    "                   pin_memory: bool = True,\n",
    "                   shuffle: bool = True,\n",
    "                   seed: int = 1) -> tuple[DataLoader, DataLoader, int, int]:\n",
    "    \"\"\" Create Dataloader and return in_channels and num_classes \"\"\"\n",
    "    in_channels = train_dataset.features.shape[1]\n",
    "    num_classes = 1  # Assuming binary classification\n",
    "\n",
    "    # Split into train and validation sets if val_proportion > 0\n",
    "    if val_proportion > 0:\n",
    "        val_size = int(len(train_dataset) * val_proportion)\n",
    "        train_size = len(train_dataset) - val_size\n",
    "        generator = torch.Generator().manual_seed(seed)\n",
    "        train_dataset, val_dataset = random_split(train_dataset, \n",
    "                                                  [train_size, val_size], \n",
    "                                                  generator=generator)\n",
    "    else:\n",
    "        train_dataset = train_dataset\n",
    "        val_dataset = None\n",
    "    \n",
    "    # Create DataLoaders\n",
    "    train_loader = DataLoader(train_dataset, \n",
    "                              batch_size=batch_size, \n",
    "                              shuffle=shuffle, \n",
    "                              num_workers=0, \n",
    "                              pin_memory=pin_memory)\n",
    "    \n",
    "    if val_dataset is not None:\n",
    "        val_loader = DataLoader(val_dataset, \n",
    "                                batch_size=batch_size, \n",
    "                                shuffle=False, \n",
    "                                num_workers=0, \n",
    "                                pin_memory=pin_memory)\n",
    "    else:\n",
    "        val_loader = None\n",
    "    \n",
    "    test_loader = DataLoader(test_dataset, \n",
    "                             batch_size=batch_size, \n",
    "                             shuffle=False, \n",
    "                             num_workers=0, \n",
    "                             pin_memory=pin_memory)\n",
    "\n",
    "    return train_loader, val_loader, test_loader, in_channels, num_classes\n",
    "\n",
    "\n",
    "features = ['query_length', 'is_homepage', 'sig1', 'sig2', \n",
    "            'sig3', 'sig4', 'sig5', 'sig6', 'sig7', 'sig8']\n",
    "batch_size = 1024\n",
    "\n",
    "train_dataset, test_dataset = get_dataset(TRAIN_DATA_PATH,\n",
    "                                          TEST_DATA_PATH,\n",
    "                                          features)\n",
    "\n",
    "train_loader, val_loader, test_loader, in_channels, num_class = get_dataloader(train_dataset=train_dataset,\n",
    "                                                                               test_dataset=test_dataset,\n",
    "                                                                               batch_size=batch_size,\n",
    "                                                                               val_proportion=0.1,\n",
    "                                                                               pin_memory=True,\n",
    "                                                                               shuffle=True,\n",
    "                                                                               seed=1,)\n",
    "for feature, label in train_loader:\n",
    "    print(feature.shape)\n",
    "    print(label.shape)\n",
    "    break\n",
    "print(in_channels)\n",
    "print(train_dataset.features.shape)"
   ]
  },
  {
   "cell_type": "code",
   "execution_count": 4,
   "metadata": {},
   "outputs": [
    {
     "name": "stdout",
     "output_type": "stream",
     "text": [
      "Running on device: cuda\n"
     ]
    },
    {
     "name": "stderr",
     "output_type": "stream",
     "text": [
      "Failed to detect the name of this notebook, you can set it manually with the WANDB_NOTEBOOK_NAME environment variable to enable code saving.\n",
      "wandb: Currently logged in as: wangboyao-02 (beryex). Use `wandb login --relogin` to force relogin\n"
     ]
    },
    {
     "data": {
      "text/html": [
       "wandb version 0.17.5 is available!  To upgrade, please run:\n",
       " $ pip install wandb --upgrade"
      ],
      "text/plain": [
       "<IPython.core.display.HTML object>"
      ]
     },
     "metadata": {},
     "output_type": "display_data"
    },
    {
     "data": {
      "text/html": [
       "Tracking run with wandb version 0.15.12"
      ],
      "text/plain": [
       "<IPython.core.display.HTML object>"
      ]
     },
     "metadata": {},
     "output_type": "display_data"
    },
    {
     "data": {
      "text/html": [
       "Run data is saved locally in <code>c:\\Users\\A\\OneDrive\\桌面\\UniversityFiles\\STATS 202\\Final Project\\wandb\\run-20240805_012737-1722846456</code>"
      ],
      "text/plain": [
       "<IPython.core.display.HTML object>"
      ]
     },
     "metadata": {},
     "output_type": "display_data"
    },
    {
     "data": {
      "text/html": [
       "Syncing run <strong><a href='https://wandb.ai/beryex/STATS-Project-new-resnet34/runs/1722846456' target=\"_blank\">1722846456</a></strong> to <a href='https://wandb.ai/beryex/STATS-Project-new-resnet34' target=\"_blank\">Weights & Biases</a> (<a href='https://wandb.me/run' target=\"_blank\">docs</a>)<br/>"
      ],
      "text/plain": [
       "<IPython.core.display.HTML object>"
      ]
     },
     "metadata": {},
     "output_type": "display_data"
    },
    {
     "data": {
      "text/html": [
       " View project at <a href='https://wandb.ai/beryex/STATS-Project-new-resnet34' target=\"_blank\">https://wandb.ai/beryex/STATS-Project-new-resnet34</a>"
      ],
      "text/plain": [
       "<IPython.core.display.HTML object>"
      ]
     },
     "metadata": {},
     "output_type": "display_data"
    },
    {
     "data": {
      "text/html": [
       " View run at <a href='https://wandb.ai/beryex/STATS-Project-new-resnet34/runs/1722846456' target=\"_blank\">https://wandb.ai/beryex/STATS-Project-new-resnet34/runs/1722846456</a>"
      ],
      "text/plain": [
       "<IPython.core.display.HTML object>"
      ]
     },
     "metadata": {},
     "output_type": "display_data"
    },
    {
     "name": "stderr",
     "output_type": "stream",
     "text": [
      "Training:   0%|          | 0/50 [00:00<?, ?epoch/s]"
     ]
    },
    {
     "name": "stdout",
     "output_type": "stream",
     "text": [
      "Best model stored to output_models/best_model.pth\n"
     ]
    },
    {
     "name": "stderr",
     "output_type": "stream",
     "text": [
      "Training:  14%|█▍        | 7/50 [00:08<00:50,  1.18s/epoch, Train loss=0.62, overall_best_acc=0, Best top1 acc=0.65, Top1 acc=0.621] "
     ]
    },
    {
     "name": "stdout",
     "output_type": "stream",
     "text": [
      "Best model stored to output_models/best_model.pth\n"
     ]
    },
    {
     "name": "stderr",
     "output_type": "stream",
     "text": [
      "Training:  16%|█▌        | 8/50 [00:09<00:49,  1.17s/epoch, Train loss=0.621, overall_best_acc=0, Best top1 acc=0.653, Top1 acc=0.653]"
     ]
    },
    {
     "name": "stdout",
     "output_type": "stream",
     "text": [
      "Best model stored to output_models/best_model.pth\n"
     ]
    },
    {
     "name": "stderr",
     "output_type": "stream",
     "text": [
      "Training:  18%|█▊        | 9/50 [00:10<00:47,  1.16s/epoch, Train loss=0.619, overall_best_acc=0, Best top1 acc=0.657, Top1 acc=0.657]"
     ]
    },
    {
     "name": "stdout",
     "output_type": "stream",
     "text": [
      "Best model stored to output_models/best_model.pth\n"
     ]
    },
    {
     "name": "stderr",
     "output_type": "stream",
     "text": [
      "Training:  38%|███▊      | 19/50 [00:21<00:34,  1.13s/epoch, Train loss=0.618, overall_best_acc=0, Best top1 acc=0.659, Top1 acc=0.655]"
     ]
    },
    {
     "name": "stdout",
     "output_type": "stream",
     "text": [
      "Best model stored to output_models/best_model.pth\n"
     ]
    },
    {
     "name": "stderr",
     "output_type": "stream",
     "text": [
      "Training:  60%|██████    | 30/50 [00:33<00:21,  1.09s/epoch, Train loss=0.615, overall_best_acc=0, Best top1 acc=0.661, Top1 acc=0.659]"
     ]
    },
    {
     "name": "stdout",
     "output_type": "stream",
     "text": [
      "Best model stored to output_models/best_model.pth\n"
     ]
    },
    {
     "name": "stderr",
     "output_type": "stream",
     "text": [
      "Training:  62%|██████▏   | 31/50 [00:34<00:20,  1.10s/epoch, Train loss=0.615, overall_best_acc=0, Best top1 acc=0.662, Top1 acc=0.662]"
     ]
    },
    {
     "name": "stdout",
     "output_type": "stream",
     "text": [
      "Best model stored to output_models/best_model.pth\n"
     ]
    },
    {
     "name": "stderr",
     "output_type": "stream",
     "text": [
      "Training:  74%|███████▍  | 37/50 [00:41<00:14,  1.14s/epoch, Train loss=0.611, overall_best_acc=0, Best top1 acc=0.662, Top1 acc=0.661]"
     ]
    },
    {
     "name": "stdout",
     "output_type": "stream",
     "text": [
      "Best model stored to output_models/best_model.pth\n"
     ]
    },
    {
     "name": "stderr",
     "output_type": "stream",
     "text": [
      "Training:  76%|███████▌  | 38/50 [00:42<00:13,  1.13s/epoch, Train loss=0.61, overall_best_acc=0, Best top1 acc=0.662, Top1 acc=0.662] "
     ]
    },
    {
     "name": "stdout",
     "output_type": "stream",
     "text": [
      "Best model stored to output_models/best_model.pth\n"
     ]
    },
    {
     "name": "stderr",
     "output_type": "stream",
     "text": [
      "Training:  78%|███████▊  | 39/50 [00:43<00:12,  1.11s/epoch, Train loss=0.611, overall_best_acc=0, Best top1 acc=0.662, Top1 acc=0.662]"
     ]
    },
    {
     "name": "stdout",
     "output_type": "stream",
     "text": [
      "Best model stored to output_models/best_model.pth\n"
     ]
    },
    {
     "name": "stderr",
     "output_type": "stream",
     "text": [
      "Training:  82%|████████▏ | 41/50 [00:45<00:10,  1.15s/epoch, Train loss=0.608, overall_best_acc=0, Best top1 acc=0.663, Top1 acc=0.663]"
     ]
    },
    {
     "name": "stdout",
     "output_type": "stream",
     "text": [
      "Best model stored to output_models/best_model.pth\n"
     ]
    },
    {
     "name": "stderr",
     "output_type": "stream",
     "text": [
      "Training:  86%|████████▌ | 43/50 [00:48<00:07,  1.14s/epoch, Train loss=0.607, overall_best_acc=0, Best top1 acc=0.664, Top1 acc=0.663]"
     ]
    },
    {
     "name": "stdout",
     "output_type": "stream",
     "text": [
      "Best model stored to output_models/best_model.pth\n"
     ]
    },
    {
     "name": "stderr",
     "output_type": "stream",
     "text": [
      "Training: 100%|██████████| 50/50 [00:56<00:00,  1.13s/epoch, Train loss=0.607, overall_best_acc=0, Best top1 acc=0.665, Top1 acc=0.663]\n"
     ]
    },
    {
     "data": {
      "text/html": [
       "Waiting for W&B process to finish... <strong style=\"color:green\">(success).</strong>"
      ],
      "text/plain": [
       "<IPython.core.display.HTML object>"
      ]
     },
     "metadata": {},
     "output_type": "display_data"
    },
    {
     "data": {
      "text/html": [
       "<style>\n",
       "    table.wandb td:nth-child(1) { padding: 0 10px; text-align: left ; width: auto;} td:nth-child(2) {text-align: left ; width: 100%}\n",
       "    .wandb-row { display: flex; flex-direction: row; flex-wrap: wrap; justify-content: flex-start; width: 100% }\n",
       "    .wandb-col { display: flex; flex-direction: column; flex-basis: 100%; flex: 1; padding: 10px; }\n",
       "    </style>\n",
       "<div class=\"wandb-row\"><div class=\"wandb-col\"><h3>Run history:</h3><br/><table class=\"wandb\"><tr><td>best top1 acc</td><td>▁▁▁▁▁▁▃▄▅▅▅▅▅▅▅▅▆▆▆▆▆▆▆▆▆▆▆▆▆▆▇▇▇███████</td></tr><tr><td>epoch</td><td>▁▁▁▁▂▂▂▂▂▃▃▃▃▃▃▄▄▄▄▄▅▅▅▅▅▅▆▆▆▆▆▆▇▇▇▇▇███</td></tr><tr><td>eval_loss</td><td>▆███▆▅▂▂▂▂▂▂▂▂▂▂▂▂▂▂▂▂▂▂▁▂▂▁▁▁▁▁▁▁▁▁▁▁▁▁</td></tr><tr><td>lr</td><td>███████▇▇▇▇▇▆▆▆▅▅▅▅▄▄▄▃▃▃▂▂▂▂▂▁▁▁▁▁▁▁▁▁▁</td></tr><tr><td>threshold</td><td>▁▁▁▁▁▁▁▁▁▁▁▁▁▁▁▁▁▁▁▁▁▁▁▁▁▁▁▁▁▁▁▁▁▁▁▁▁▁▁▁</td></tr><tr><td>top1_acc</td><td>▇▂▂▁▁▄▇▇▇▇▇▇▇▇▇▇█▇▇▇▇▇▇▇████████████████</td></tr><tr><td>train_loss</td><td>█▃▂▂▂▂▂▂▂▂▂▂▂▂▂▂▂▂▂▂▂▂▂▂▂▂▂▂▁▁▁▁▁▁▁▁▁▁▁▁</td></tr></table><br/></div><div class=\"wandb-col\"><h3>Run summary:</h3><br/><table class=\"wandb\"><tr><td>best top1 acc</td><td>0.66503</td></tr><tr><td>epoch</td><td>50</td></tr><tr><td>eval_loss</td><td>0.61064</td></tr><tr><td>lr</td><td>0.001</td></tr><tr><td>threshold</td><td>0.5</td></tr><tr><td>top1_acc</td><td>0.66345</td></tr><tr><td>train_loss</td><td>0.60687</td></tr></table><br/></div></div>"
      ],
      "text/plain": [
       "<IPython.core.display.HTML object>"
      ]
     },
     "metadata": {},
     "output_type": "display_data"
    },
    {
     "data": {
      "text/html": [
       " View run <strong style=\"color:#cdcd00\">1722846456</strong> at: <a href='https://wandb.ai/beryex/STATS-Project-new-resnet34/runs/1722846456' target=\"_blank\">https://wandb.ai/beryex/STATS-Project-new-resnet34/runs/1722846456</a><br/>Synced 6 W&B file(s), 0 media file(s), 0 artifact file(s) and 0 other file(s)"
      ],
      "text/plain": [
       "<IPython.core.display.HTML object>"
      ]
     },
     "metadata": {},
     "output_type": "display_data"
    },
    {
     "data": {
      "text/html": [
       "Find logs at: <code>.\\wandb\\run-20240805_012737-1722846456\\logs</code>"
      ],
      "text/plain": [
       "<IPython.core.display.HTML object>"
      ]
     },
     "metadata": {},
     "output_type": "display_data"
    },
    {
     "name": "stdout",
     "output_type": "stream",
     "text": [
      "Seed 1 has best_acc: 0.6650303800075521\n"
     ]
    },
    {
     "data": {
      "text/html": [
       "wandb version 0.17.5 is available!  To upgrade, please run:\n",
       " $ pip install wandb --upgrade"
      ],
      "text/plain": [
       "<IPython.core.display.HTML object>"
      ]
     },
     "metadata": {},
     "output_type": "display_data"
    },
    {
     "data": {
      "text/html": [
       "Tracking run with wandb version 0.15.12"
      ],
      "text/plain": [
       "<IPython.core.display.HTML object>"
      ]
     },
     "metadata": {},
     "output_type": "display_data"
    },
    {
     "data": {
      "text/html": [
       "Run data is saved locally in <code>c:\\Users\\A\\OneDrive\\桌面\\UniversityFiles\\STATS 202\\Final Project\\wandb\\run-20240805_012850-1722846530</code>"
      ],
      "text/plain": [
       "<IPython.core.display.HTML object>"
      ]
     },
     "metadata": {},
     "output_type": "display_data"
    },
    {
     "data": {
      "text/html": [
       "Syncing run <strong><a href='https://wandb.ai/beryex/STATS-Project-new-resnet34/runs/1722846530' target=\"_blank\">1722846530</a></strong> to <a href='https://wandb.ai/beryex/STATS-Project-new-resnet34' target=\"_blank\">Weights & Biases</a> (<a href='https://wandb.me/run' target=\"_blank\">docs</a>)<br/>"
      ],
      "text/plain": [
       "<IPython.core.display.HTML object>"
      ]
     },
     "metadata": {},
     "output_type": "display_data"
    },
    {
     "data": {
      "text/html": [
       " View project at <a href='https://wandb.ai/beryex/STATS-Project-new-resnet34' target=\"_blank\">https://wandb.ai/beryex/STATS-Project-new-resnet34</a>"
      ],
      "text/plain": [
       "<IPython.core.display.HTML object>"
      ]
     },
     "metadata": {},
     "output_type": "display_data"
    },
    {
     "data": {
      "text/html": [
       " View run at <a href='https://wandb.ai/beryex/STATS-Project-new-resnet34/runs/1722846530' target=\"_blank\">https://wandb.ai/beryex/STATS-Project-new-resnet34/runs/1722846530</a>"
      ],
      "text/plain": [
       "<IPython.core.display.HTML object>"
      ]
     },
     "metadata": {},
     "output_type": "display_data"
    },
    {
     "name": "stderr",
     "output_type": "stream",
     "text": [
      "Training: 100%|██████████| 50/50 [00:58<00:00,  1.16s/epoch, Train loss=0.605, overall_best_acc=0.665, Best top1 acc=0.663, Top1 acc=0.663]\n"
     ]
    },
    {
     "data": {
      "text/html": [
       "Waiting for W&B process to finish... <strong style=\"color:green\">(success).</strong>"
      ],
      "text/plain": [
       "<IPython.core.display.HTML object>"
      ]
     },
     "metadata": {},
     "output_type": "display_data"
    },
    {
     "data": {
      "text/html": [
       "<style>\n",
       "    table.wandb td:nth-child(1) { padding: 0 10px; text-align: left ; width: auto;} td:nth-child(2) {text-align: left ; width: 100%}\n",
       "    .wandb-row { display: flex; flex-direction: row; flex-wrap: wrap; justify-content: flex-start; width: 100% }\n",
       "    .wandb-col { display: flex; flex-direction: column; flex-basis: 100%; flex: 1; padding: 10px; }\n",
       "    </style>\n",
       "<div class=\"wandb-row\"><div class=\"wandb-col\"><h3>Run history:</h3><br/><table class=\"wandb\"><tr><td>best top1 acc</td><td>▁▁▂▆▆▇▇▇▇▇▇▇████████████████████████████</td></tr><tr><td>epoch</td><td>▁▁▁▁▂▂▂▂▂▃▃▃▃▃▃▄▄▄▄▄▅▅▅▅▅▅▆▆▆▆▆▆▇▇▇▇▇███</td></tr><tr><td>eval_loss</td><td>▇██▇▅▄▃▂▂▂▂▂▂▃▂▃▂▂▂▂▂▂▂▂▁▁▁▁▁▁▁▁▁▁▁▁▁▁▁▁</td></tr><tr><td>lr</td><td>███████▇▇▇▇▇▆▆▆▅▅▅▅▄▄▄▃▃▃▂▂▂▂▂▁▁▁▁▁▁▁▁▁▁</td></tr><tr><td>threshold</td><td>▁▁▁▁▁▁▁▁▁▁▁▁▁▁▁▁▁▁▁▁▁▁▁▁▁▁▁▁▁▁▁▁▁▁▁▁▁▁▁▁</td></tr><tr><td>top1_acc</td><td>▂▁▃▆▆▇▇▇▇█▇▇█▇▇▇▇██▇▇███████████████████</td></tr><tr><td>train_loss</td><td>█▃▂▂▂▂▂▂▂▂▂▂▂▂▂▂▂▂▂▂▂▂▂▂▂▂▂▂▁▁▁▁▁▁▁▁▁▁▁▁</td></tr></table><br/></div><div class=\"wandb-col\"><h3>Run summary:</h3><br/><table class=\"wandb\"><tr><td>best top1 acc</td><td>0.66328</td></tr><tr><td>epoch</td><td>50</td></tr><tr><td>eval_loss</td><td>0.60971</td></tr><tr><td>lr</td><td>0.001</td></tr><tr><td>threshold</td><td>0.5</td></tr><tr><td>top1_acc</td><td>0.6627</td></tr><tr><td>train_loss</td><td>0.60545</td></tr></table><br/></div></div>"
      ],
      "text/plain": [
       "<IPython.core.display.HTML object>"
      ]
     },
     "metadata": {},
     "output_type": "display_data"
    },
    {
     "data": {
      "text/html": [
       " View run <strong style=\"color:#cdcd00\">1722846530</strong> at: <a href='https://wandb.ai/beryex/STATS-Project-new-resnet34/runs/1722846530' target=\"_blank\">https://wandb.ai/beryex/STATS-Project-new-resnet34/runs/1722846530</a><br/>Synced 6 W&B file(s), 0 media file(s), 0 artifact file(s) and 0 other file(s)"
      ],
      "text/plain": [
       "<IPython.core.display.HTML object>"
      ]
     },
     "metadata": {},
     "output_type": "display_data"
    },
    {
     "data": {
      "text/html": [
       "Find logs at: <code>.\\wandb\\run-20240805_012850-1722846530\\logs</code>"
      ],
      "text/plain": [
       "<IPython.core.display.HTML object>"
      ]
     },
     "metadata": {},
     "output_type": "display_data"
    },
    {
     "name": "stdout",
     "output_type": "stream",
     "text": [
      "Seed 5 has best_acc: 0.66327966770794\n"
     ]
    },
    {
     "data": {
      "text/html": [
       "wandb version 0.17.5 is available!  To upgrade, please run:\n",
       " $ pip install wandb --upgrade"
      ],
      "text/plain": [
       "<IPython.core.display.HTML object>"
      ]
     },
     "metadata": {},
     "output_type": "display_data"
    },
    {
     "data": {
      "text/html": [
       "Tracking run with wandb version 0.15.12"
      ],
      "text/plain": [
       "<IPython.core.display.HTML object>"
      ]
     },
     "metadata": {},
     "output_type": "display_data"
    },
    {
     "data": {
      "text/html": [
       "Run data is saved locally in <code>c:\\Users\\A\\OneDrive\\桌面\\UniversityFiles\\STATS 202\\Final Project\\wandb\\run-20240805_013004-1722846604</code>"
      ],
      "text/plain": [
       "<IPython.core.display.HTML object>"
      ]
     },
     "metadata": {},
     "output_type": "display_data"
    },
    {
     "data": {
      "text/html": [
       "Syncing run <strong><a href='https://wandb.ai/beryex/STATS-Project-new-resnet34/runs/1722846604' target=\"_blank\">1722846604</a></strong> to <a href='https://wandb.ai/beryex/STATS-Project-new-resnet34' target=\"_blank\">Weights & Biases</a> (<a href='https://wandb.me/run' target=\"_blank\">docs</a>)<br/>"
      ],
      "text/plain": [
       "<IPython.core.display.HTML object>"
      ]
     },
     "metadata": {},
     "output_type": "display_data"
    },
    {
     "data": {
      "text/html": [
       " View project at <a href='https://wandb.ai/beryex/STATS-Project-new-resnet34' target=\"_blank\">https://wandb.ai/beryex/STATS-Project-new-resnet34</a>"
      ],
      "text/plain": [
       "<IPython.core.display.HTML object>"
      ]
     },
     "metadata": {},
     "output_type": "display_data"
    },
    {
     "data": {
      "text/html": [
       " View run at <a href='https://wandb.ai/beryex/STATS-Project-new-resnet34/runs/1722846604' target=\"_blank\">https://wandb.ai/beryex/STATS-Project-new-resnet34/runs/1722846604</a>"
      ],
      "text/plain": [
       "<IPython.core.display.HTML object>"
      ]
     },
     "metadata": {},
     "output_type": "display_data"
    },
    {
     "name": "stderr",
     "output_type": "stream",
     "text": [
      "Training: 100%|██████████| 50/50 [00:56<00:00,  1.13s/epoch, Train loss=0.605, overall_best_acc=1.33, Best top1 acc=0.664, Top1 acc=0.664]\n"
     ]
    },
    {
     "data": {
      "text/html": [
       "Waiting for W&B process to finish... <strong style=\"color:green\">(success).</strong>"
      ],
      "text/plain": [
       "<IPython.core.display.HTML object>"
      ]
     },
     "metadata": {},
     "output_type": "display_data"
    },
    {
     "data": {
      "text/html": [
       "<style>\n",
       "    table.wandb td:nth-child(1) { padding: 0 10px; text-align: left ; width: auto;} td:nth-child(2) {text-align: left ; width: 100%}\n",
       "    .wandb-row { display: flex; flex-direction: row; flex-wrap: wrap; justify-content: flex-start; width: 100% }\n",
       "    .wandb-col { display: flex; flex-direction: column; flex-basis: 100%; flex: 1; padding: 10px; }\n",
       "    </style>\n",
       "<div class=\"wandb-row\"><div class=\"wandb-col\"><h3>Run history:</h3><br/><table class=\"wandb\"><tr><td>best top1 acc</td><td>▁▅▅▅▇▇██████████████████████████████████</td></tr><tr><td>epoch</td><td>▁▁▁▁▂▂▂▂▂▃▃▃▃▃▃▄▄▄▄▄▅▅▅▅▅▅▆▆▆▆▆▆▇▇▇▇▇███</td></tr><tr><td>eval_loss</td><td>█▆▆▅▄▄▂▂▂▂▃▂▂▂▂▂▂▂▂▂▂▂▁▁▁▂▁▁▁▁▁▁▁▁▁▁▁▁▁▁</td></tr><tr><td>lr</td><td>███████▇▇▇▇▇▆▆▆▅▅▅▅▄▄▄▃▃▃▂▂▂▂▂▁▁▁▁▁▁▁▁▁▁</td></tr><tr><td>threshold</td><td>▁▁▁▁▁▁▁▁▁▁▁▁▁▁▁▁▁▁▁▁▁▁▁▁▁▁▁▁▁▁▁▁▁▁▁▁▁▁▁▁</td></tr><tr><td>top1_acc</td><td>▁▅▅▅▇▅████▇█████████████████████████████</td></tr><tr><td>train_loss</td><td>█▃▂▂▂▂▂▂▂▂▂▂▂▂▂▂▂▂▂▂▂▂▂▂▂▂▁▂▁▁▁▁▁▁▁▁▁▁▁▁</td></tr></table><br/></div><div class=\"wandb-col\"><h3>Run summary:</h3><br/><table class=\"wandb\"><tr><td>best top1 acc</td><td>0.6641</td></tr><tr><td>epoch</td><td>50</td></tr><tr><td>eval_loss</td><td>0.61083</td></tr><tr><td>lr</td><td>0.001</td></tr><tr><td>threshold</td><td>0.5</td></tr><tr><td>top1_acc</td><td>0.66379</td></tr><tr><td>train_loss</td><td>0.60492</td></tr></table><br/></div></div>"
      ],
      "text/plain": [
       "<IPython.core.display.HTML object>"
      ]
     },
     "metadata": {},
     "output_type": "display_data"
    },
    {
     "data": {
      "text/html": [
       " View run <strong style=\"color:#cdcd00\">1722846604</strong> at: <a href='https://wandb.ai/beryex/STATS-Project-new-resnet34/runs/1722846604' target=\"_blank\">https://wandb.ai/beryex/STATS-Project-new-resnet34/runs/1722846604</a><br/>Synced 6 W&B file(s), 0 media file(s), 0 artifact file(s) and 0 other file(s)"
      ],
      "text/plain": [
       "<IPython.core.display.HTML object>"
      ]
     },
     "metadata": {},
     "output_type": "display_data"
    },
    {
     "data": {
      "text/html": [
       "Find logs at: <code>.\\wandb\\run-20240805_013004-1722846604\\logs</code>"
      ],
      "text/plain": [
       "<IPython.core.display.HTML object>"
      ]
     },
     "metadata": {},
     "output_type": "display_data"
    },
    {
     "name": "stdout",
     "output_type": "stream",
     "text": [
      "Seed 10 has best_acc: 0.6641035323195221\n"
     ]
    },
    {
     "data": {
      "text/html": [
       "wandb version 0.17.5 is available!  To upgrade, please run:\n",
       " $ pip install wandb --upgrade"
      ],
      "text/plain": [
       "<IPython.core.display.HTML object>"
      ]
     },
     "metadata": {},
     "output_type": "display_data"
    },
    {
     "data": {
      "text/html": [
       "Tracking run with wandb version 0.15.12"
      ],
      "text/plain": [
       "<IPython.core.display.HTML object>"
      ]
     },
     "metadata": {},
     "output_type": "display_data"
    },
    {
     "data": {
      "text/html": [
       "Run data is saved locally in <code>c:\\Users\\A\\OneDrive\\桌面\\UniversityFiles\\STATS 202\\Final Project\\wandb\\run-20240805_013117-1722846677</code>"
      ],
      "text/plain": [
       "<IPython.core.display.HTML object>"
      ]
     },
     "metadata": {},
     "output_type": "display_data"
    },
    {
     "data": {
      "text/html": [
       "Syncing run <strong><a href='https://wandb.ai/beryex/STATS-Project-new-resnet34/runs/1722846677' target=\"_blank\">1722846677</a></strong> to <a href='https://wandb.ai/beryex/STATS-Project-new-resnet34' target=\"_blank\">Weights & Biases</a> (<a href='https://wandb.me/run' target=\"_blank\">docs</a>)<br/>"
      ],
      "text/plain": [
       "<IPython.core.display.HTML object>"
      ]
     },
     "metadata": {},
     "output_type": "display_data"
    },
    {
     "data": {
      "text/html": [
       " View project at <a href='https://wandb.ai/beryex/STATS-Project-new-resnet34' target=\"_blank\">https://wandb.ai/beryex/STATS-Project-new-resnet34</a>"
      ],
      "text/plain": [
       "<IPython.core.display.HTML object>"
      ]
     },
     "metadata": {},
     "output_type": "display_data"
    },
    {
     "data": {
      "text/html": [
       " View run at <a href='https://wandb.ai/beryex/STATS-Project-new-resnet34/runs/1722846677' target=\"_blank\">https://wandb.ai/beryex/STATS-Project-new-resnet34/runs/1722846677</a>"
      ],
      "text/plain": [
       "<IPython.core.display.HTML object>"
      ]
     },
     "metadata": {},
     "output_type": "display_data"
    },
    {
     "name": "stderr",
     "output_type": "stream",
     "text": [
      "Training: 100%|██████████| 50/50 [00:56<00:00,  1.14s/epoch, Train loss=0.604, overall_best_acc=2, Best top1 acc=0.663, Top1 acc=0.662]\n"
     ]
    },
    {
     "data": {
      "text/html": [
       "Waiting for W&B process to finish... <strong style=\"color:green\">(success).</strong>"
      ],
      "text/plain": [
       "<IPython.core.display.HTML object>"
      ]
     },
     "metadata": {},
     "output_type": "display_data"
    },
    {
     "data": {
      "text/html": [
       "<style>\n",
       "    table.wandb td:nth-child(1) { padding: 0 10px; text-align: left ; width: auto;} td:nth-child(2) {text-align: left ; width: 100%}\n",
       "    .wandb-row { display: flex; flex-direction: row; flex-wrap: wrap; justify-content: flex-start; width: 100% }\n",
       "    .wandb-col { display: flex; flex-direction: column; flex-basis: 100%; flex: 1; padding: 10px; }\n",
       "    </style>\n",
       "<div class=\"wandb-row\"><div class=\"wandb-col\"><h3>Run history:</h3><br/><table class=\"wandb\"><tr><td>best top1 acc</td><td>▁▂▂▂▇▇▇▇▇▇▇▇████████████████████████████</td></tr><tr><td>epoch</td><td>▁▁▁▁▂▂▂▂▂▃▃▃▃▃▃▄▄▄▄▄▅▅▅▅▅▅▆▆▆▆▆▆▇▇▇▇▇███</td></tr><tr><td>eval_loss</td><td>█▆▇▆▄▄▂▃▂▂▂▂▁▂▂▂▂▂▃▂▂▁▂▂▂▁▁▁▁▁▁▁▁▁▁▁▁▁▁▁</td></tr><tr><td>lr</td><td>███████▇▇▇▇▇▆▆▆▅▅▅▅▄▄▄▃▃▃▂▂▂▂▂▁▁▁▁▁▁▁▁▁▁</td></tr><tr><td>threshold</td><td>▁▁▁▁▁▁▁▁▁▁▁▁▁▁▁▁▁▁▁▁▁▁▁▁▁▁▁▁▁▁▁▁▁▁▁▁▁▁▁▁</td></tr><tr><td>top1_acc</td><td>▁▂▂▂▇▇▇▇▇▇▇▇█▇▇▇█▇▆▇██▇████████▇████████</td></tr><tr><td>train_loss</td><td>█▃▂▂▂▂▂▂▂▂▂▂▂▂▂▂▂▂▂▂▂▂▂▂▂▂▂▂▁▁▁▁▁▁▁▁▁▁▁▁</td></tr></table><br/></div><div class=\"wandb-col\"><h3>Run summary:</h3><br/><table class=\"wandb\"><tr><td>best top1 acc</td><td>0.66321</td></tr><tr><td>epoch</td><td>50</td></tr><tr><td>eval_loss</td><td>0.61079</td></tr><tr><td>lr</td><td>0.001</td></tr><tr><td>threshold</td><td>0.5</td></tr><tr><td>top1_acc</td><td>0.66201</td></tr><tr><td>train_loss</td><td>0.6045</td></tr></table><br/></div></div>"
      ],
      "text/plain": [
       "<IPython.core.display.HTML object>"
      ]
     },
     "metadata": {},
     "output_type": "display_data"
    },
    {
     "data": {
      "text/html": [
       " View run <strong style=\"color:#cdcd00\">1722846677</strong> at: <a href='https://wandb.ai/beryex/STATS-Project-new-resnet34/runs/1722846677' target=\"_blank\">https://wandb.ai/beryex/STATS-Project-new-resnet34/runs/1722846677</a><br/>Synced 6 W&B file(s), 0 media file(s), 0 artifact file(s) and 0 other file(s)"
      ],
      "text/plain": [
       "<IPython.core.display.HTML object>"
      ]
     },
     "metadata": {},
     "output_type": "display_data"
    },
    {
     "data": {
      "text/html": [
       "Find logs at: <code>.\\wandb\\run-20240805_013117-1722846677\\logs</code>"
      ],
      "text/plain": [
       "<IPython.core.display.HTML object>"
      ]
     },
     "metadata": {},
     "output_type": "display_data"
    },
    {
     "name": "stdout",
     "output_type": "stream",
     "text": [
      "Seed 20 has best_acc: 0.6632110123236414\n"
     ]
    },
    {
     "data": {
      "text/html": [
       "wandb version 0.17.5 is available!  To upgrade, please run:\n",
       " $ pip install wandb --upgrade"
      ],
      "text/plain": [
       "<IPython.core.display.HTML object>"
      ]
     },
     "metadata": {},
     "output_type": "display_data"
    },
    {
     "data": {
      "text/html": [
       "Tracking run with wandb version 0.15.12"
      ],
      "text/plain": [
       "<IPython.core.display.HTML object>"
      ]
     },
     "metadata": {},
     "output_type": "display_data"
    },
    {
     "data": {
      "text/html": [
       "Run data is saved locally in <code>c:\\Users\\A\\OneDrive\\桌面\\UniversityFiles\\STATS 202\\Final Project\\wandb\\run-20240805_013229-1722846749</code>"
      ],
      "text/plain": [
       "<IPython.core.display.HTML object>"
      ]
     },
     "metadata": {},
     "output_type": "display_data"
    },
    {
     "data": {
      "text/html": [
       "Syncing run <strong><a href='https://wandb.ai/beryex/STATS-Project-new-resnet34/runs/1722846749' target=\"_blank\">1722846749</a></strong> to <a href='https://wandb.ai/beryex/STATS-Project-new-resnet34' target=\"_blank\">Weights & Biases</a> (<a href='https://wandb.me/run' target=\"_blank\">docs</a>)<br/>"
      ],
      "text/plain": [
       "<IPython.core.display.HTML object>"
      ]
     },
     "metadata": {},
     "output_type": "display_data"
    },
    {
     "data": {
      "text/html": [
       " View project at <a href='https://wandb.ai/beryex/STATS-Project-new-resnet34' target=\"_blank\">https://wandb.ai/beryex/STATS-Project-new-resnet34</a>"
      ],
      "text/plain": [
       "<IPython.core.display.HTML object>"
      ]
     },
     "metadata": {},
     "output_type": "display_data"
    },
    {
     "data": {
      "text/html": [
       " View run at <a href='https://wandb.ai/beryex/STATS-Project-new-resnet34/runs/1722846749' target=\"_blank\">https://wandb.ai/beryex/STATS-Project-new-resnet34/runs/1722846749</a>"
      ],
      "text/plain": [
       "<IPython.core.display.HTML object>"
      ]
     },
     "metadata": {},
     "output_type": "display_data"
    },
    {
     "name": "stderr",
     "output_type": "stream",
     "text": [
      "Training: 100%|██████████| 50/50 [01:05<00:00,  1.31s/epoch, Train loss=0.604, overall_best_acc=2.66, Best top1 acc=0.662, Top1 acc=0.662]\n"
     ]
    },
    {
     "data": {
      "text/html": [
       "Waiting for W&B process to finish... <strong style=\"color:green\">(success).</strong>"
      ],
      "text/plain": [
       "<IPython.core.display.HTML object>"
      ]
     },
     "metadata": {},
     "output_type": "display_data"
    },
    {
     "data": {
      "text/html": [
       "<style>\n",
       "    table.wandb td:nth-child(1) { padding: 0 10px; text-align: left ; width: auto;} td:nth-child(2) {text-align: left ; width: 100%}\n",
       "    .wandb-row { display: flex; flex-direction: row; flex-wrap: wrap; justify-content: flex-start; width: 100% }\n",
       "    .wandb-col { display: flex; flex-direction: column; flex-basis: 100%; flex: 1; padding: 10px; }\n",
       "    </style>\n",
       "<div class=\"wandb-row\"><div class=\"wandb-col\"><h3>Run history:</h3><br/><table class=\"wandb\"><tr><td>best top1 acc</td><td>▁▁▁▁▆▇▇▇▇▇▇▇▇▇▇▇▇▇▇▇████████████████████</td></tr><tr><td>epoch</td><td>▁▁▁▁▂▂▂▂▂▃▃▃▃▃▃▄▄▄▄▄▅▅▅▅▅▅▆▆▆▆▆▆▇▇▇▇▇███</td></tr><tr><td>eval_loss</td><td>██▇▇▅▅▂▂▂▂▂▂▂▂▂▂▂▂▂▂▂▂▂▂▂▁▁▁▁▁▁▁▁▁▁▁▁▁▁▁</td></tr><tr><td>lr</td><td>███████▇▇▇▇▇▆▆▆▅▅▅▅▄▄▄▃▃▃▂▂▂▂▂▁▁▁▁▁▁▁▁▁▁</td></tr><tr><td>threshold</td><td>▁▁▁▁▁▁▁▁▁▁▁▁▁▁▁▁▁▁▁▁▁▁▁▁▁▁▁▁▁▁▁▁▁▁▁▁▁▁▁▁</td></tr><tr><td>top1_acc</td><td>▂▁▂▂▆▇▇▇▇▇▇▇█▇▇▇▇▇▇▇██▇▇▇█▇█████████████</td></tr><tr><td>train_loss</td><td>█▃▂▂▂▂▂▂▂▂▂▂▂▂▂▂▂▂▂▂▂▂▂▂▂▂▂▂▁▁▁▁▁▁▁▁▁▁▁▁</td></tr></table><br/></div><div class=\"wandb-col\"><h3>Run summary:</h3><br/><table class=\"wandb\"><tr><td>best top1 acc</td><td>0.66239</td></tr><tr><td>epoch</td><td>50</td></tr><tr><td>eval_loss</td><td>0.61365</td></tr><tr><td>lr</td><td>0.001</td></tr><tr><td>threshold</td><td>0.5</td></tr><tr><td>top1_acc</td><td>0.66184</td></tr><tr><td>train_loss</td><td>0.60378</td></tr></table><br/></div></div>"
      ],
      "text/plain": [
       "<IPython.core.display.HTML object>"
      ]
     },
     "metadata": {},
     "output_type": "display_data"
    },
    {
     "data": {
      "text/html": [
       " View run <strong style=\"color:#cdcd00\">1722846749</strong> at: <a href='https://wandb.ai/beryex/STATS-Project-new-resnet34/runs/1722846749' target=\"_blank\">https://wandb.ai/beryex/STATS-Project-new-resnet34/runs/1722846749</a><br/>Synced 6 W&B file(s), 0 media file(s), 0 artifact file(s) and 0 other file(s)"
      ],
      "text/plain": [
       "<IPython.core.display.HTML object>"
      ]
     },
     "metadata": {},
     "output_type": "display_data"
    },
    {
     "data": {
      "text/html": [
       "Find logs at: <code>.\\wandb\\run-20240805_013229-1722846749\\logs</code>"
      ],
      "text/plain": [
       "<IPython.core.display.HTML object>"
      ]
     },
     "metadata": {},
     "output_type": "display_data"
    },
    {
     "name": "stdout",
     "output_type": "stream",
     "text": [
      "Seed 50 has best_acc: 0.6623871477120593\n"
     ]
    },
    {
     "data": {
      "text/html": [
       "wandb version 0.17.5 is available!  To upgrade, please run:\n",
       " $ pip install wandb --upgrade"
      ],
      "text/plain": [
       "<IPython.core.display.HTML object>"
      ]
     },
     "metadata": {},
     "output_type": "display_data"
    },
    {
     "data": {
      "text/html": [
       "Tracking run with wandb version 0.15.12"
      ],
      "text/plain": [
       "<IPython.core.display.HTML object>"
      ]
     },
     "metadata": {},
     "output_type": "display_data"
    },
    {
     "data": {
      "text/html": [
       "Run data is saved locally in <code>c:\\Users\\A\\OneDrive\\桌面\\UniversityFiles\\STATS 202\\Final Project\\wandb\\run-20240805_013350-1722846830</code>"
      ],
      "text/plain": [
       "<IPython.core.display.HTML object>"
      ]
     },
     "metadata": {},
     "output_type": "display_data"
    },
    {
     "data": {
      "text/html": [
       "Syncing run <strong><a href='https://wandb.ai/beryex/STATS-Project-new-resnet34/runs/1722846830' target=\"_blank\">1722846830</a></strong> to <a href='https://wandb.ai/beryex/STATS-Project-new-resnet34' target=\"_blank\">Weights & Biases</a> (<a href='https://wandb.me/run' target=\"_blank\">docs</a>)<br/>"
      ],
      "text/plain": [
       "<IPython.core.display.HTML object>"
      ]
     },
     "metadata": {},
     "output_type": "display_data"
    },
    {
     "data": {
      "text/html": [
       " View project at <a href='https://wandb.ai/beryex/STATS-Project-new-resnet34' target=\"_blank\">https://wandb.ai/beryex/STATS-Project-new-resnet34</a>"
      ],
      "text/plain": [
       "<IPython.core.display.HTML object>"
      ]
     },
     "metadata": {},
     "output_type": "display_data"
    },
    {
     "data": {
      "text/html": [
       " View run at <a href='https://wandb.ai/beryex/STATS-Project-new-resnet34/runs/1722846830' target=\"_blank\">https://wandb.ai/beryex/STATS-Project-new-resnet34/runs/1722846830</a>"
      ],
      "text/plain": [
       "<IPython.core.display.HTML object>"
      ]
     },
     "metadata": {},
     "output_type": "display_data"
    },
    {
     "name": "stderr",
     "output_type": "stream",
     "text": [
      "Training: 100%|██████████| 50/50 [00:57<00:00,  1.16s/epoch, Train loss=0.604, overall_best_acc=3.33, Best top1 acc=0.661, Top1 acc=0.661]\n"
     ]
    },
    {
     "data": {
      "text/html": [
       "Waiting for W&B process to finish... <strong style=\"color:green\">(success).</strong>"
      ],
      "text/plain": [
       "<IPython.core.display.HTML object>"
      ]
     },
     "metadata": {},
     "output_type": "display_data"
    },
    {
     "data": {
      "text/html": [
       "<style>\n",
       "    table.wandb td:nth-child(1) { padding: 0 10px; text-align: left ; width: auto;} td:nth-child(2) {text-align: left ; width: 100%}\n",
       "    .wandb-row { display: flex; flex-direction: row; flex-wrap: wrap; justify-content: flex-start; width: 100% }\n",
       "    .wandb-col { display: flex; flex-direction: column; flex-basis: 100%; flex: 1; padding: 10px; }\n",
       "    </style>\n",
       "<div class=\"wandb-row\"><div class=\"wandb-col\"><h3>Run history:</h3><br/><table class=\"wandb\"><tr><td>best top1 acc</td><td>▁▁▂▂▆▆▆█████████████████████████████████</td></tr><tr><td>epoch</td><td>▁▁▁▁▂▂▂▂▂▃▃▃▃▃▃▄▄▄▄▄▅▅▅▅▅▅▆▆▆▆▆▆▇▇▇▇▇███</td></tr><tr><td>eval_loss</td><td>██▇▇▇▅▄▂▂▂▂▃▂▂▂▂▂▂▂▂▁▁▂▂▁▂▂▂▁▁▁▁▁▁▁▁▁▁▁▁</td></tr><tr><td>lr</td><td>███████▇▇▇▇▇▆▆▆▅▅▅▅▄▄▄▃▃▃▂▂▂▂▂▁▁▁▁▁▁▁▁▁▁</td></tr><tr><td>threshold</td><td>▁▁▁▁▁▁▁▁▁▁▁▁▁▁▁▁▁▁▁▁▁▁▁▁▁▁▁▁▁▁▁▁▁▁▁▁▁▁▁▁</td></tr><tr><td>top1_acc</td><td>▁▁▂▂▂▃▆██▇█▇▇▇▇█▇█▇▇███████▇████████████</td></tr><tr><td>train_loss</td><td>█▃▂▂▂▂▂▂▂▂▂▂▂▂▂▂▂▂▂▂▂▂▂▂▂▂▂▁▁▁▁▁▁▁▁▁▁▁▁▁</td></tr></table><br/></div><div class=\"wandb-col\"><h3>Run summary:</h3><br/><table class=\"wandb\"><tr><td>best top1 acc</td><td>0.66098</td></tr><tr><td>epoch</td><td>50</td></tr><tr><td>eval_loss</td><td>0.61464</td></tr><tr><td>lr</td><td>0.001</td></tr><tr><td>threshold</td><td>0.5</td></tr><tr><td>top1_acc</td><td>0.66067</td></tr><tr><td>train_loss</td><td>0.60437</td></tr></table><br/></div></div>"
      ],
      "text/plain": [
       "<IPython.core.display.HTML object>"
      ]
     },
     "metadata": {},
     "output_type": "display_data"
    },
    {
     "data": {
      "text/html": [
       " View run <strong style=\"color:#cdcd00\">1722846830</strong> at: <a href='https://wandb.ai/beryex/STATS-Project-new-resnet34/runs/1722846830' target=\"_blank\">https://wandb.ai/beryex/STATS-Project-new-resnet34/runs/1722846830</a><br/>Synced 6 W&B file(s), 0 media file(s), 0 artifact file(s) and 0 other file(s)"
      ],
      "text/plain": [
       "<IPython.core.display.HTML object>"
      ]
     },
     "metadata": {},
     "output_type": "display_data"
    },
    {
     "data": {
      "text/html": [
       "Find logs at: <code>.\\wandb\\run-20240805_013350-1722846830\\logs</code>"
      ],
      "text/plain": [
       "<IPython.core.display.HTML object>"
      ]
     },
     "metadata": {},
     "output_type": "display_data"
    },
    {
     "name": "stdout",
     "output_type": "stream",
     "text": [
      "Seed 100 has best_acc: 0.6609797123339398\n"
     ]
    },
    {
     "data": {
      "text/html": [
       "wandb version 0.17.5 is available!  To upgrade, please run:\n",
       " $ pip install wandb --upgrade"
      ],
      "text/plain": [
       "<IPython.core.display.HTML object>"
      ]
     },
     "metadata": {},
     "output_type": "display_data"
    },
    {
     "data": {
      "text/html": [
       "Tracking run with wandb version 0.15.12"
      ],
      "text/plain": [
       "<IPython.core.display.HTML object>"
      ]
     },
     "metadata": {},
     "output_type": "display_data"
    },
    {
     "data": {
      "text/html": [
       "Run data is saved locally in <code>c:\\Users\\A\\OneDrive\\桌面\\UniversityFiles\\STATS 202\\Final Project\\wandb\\run-20240805_013503-1722846903</code>"
      ],
      "text/plain": [
       "<IPython.core.display.HTML object>"
      ]
     },
     "metadata": {},
     "output_type": "display_data"
    },
    {
     "data": {
      "text/html": [
       "Syncing run <strong><a href='https://wandb.ai/beryex/STATS-Project-new-resnet34/runs/1722846903' target=\"_blank\">1722846903</a></strong> to <a href='https://wandb.ai/beryex/STATS-Project-new-resnet34' target=\"_blank\">Weights & Biases</a> (<a href='https://wandb.me/run' target=\"_blank\">docs</a>)<br/>"
      ],
      "text/plain": [
       "<IPython.core.display.HTML object>"
      ]
     },
     "metadata": {},
     "output_type": "display_data"
    },
    {
     "data": {
      "text/html": [
       " View project at <a href='https://wandb.ai/beryex/STATS-Project-new-resnet34' target=\"_blank\">https://wandb.ai/beryex/STATS-Project-new-resnet34</a>"
      ],
      "text/plain": [
       "<IPython.core.display.HTML object>"
      ]
     },
     "metadata": {},
     "output_type": "display_data"
    },
    {
     "data": {
      "text/html": [
       " View run at <a href='https://wandb.ai/beryex/STATS-Project-new-resnet34/runs/1722846903' target=\"_blank\">https://wandb.ai/beryex/STATS-Project-new-resnet34/runs/1722846903</a>"
      ],
      "text/plain": [
       "<IPython.core.display.HTML object>"
      ]
     },
     "metadata": {},
     "output_type": "display_data"
    },
    {
     "name": "stderr",
     "output_type": "stream",
     "text": [
      "Training: 100%|██████████| 50/50 [00:59<00:00,  1.18s/epoch, Train loss=0.608, overall_best_acc=3.99, Best top1 acc=0.663, Top1 acc=0.663]\n"
     ]
    },
    {
     "data": {
      "text/html": [
       "Waiting for W&B process to finish... <strong style=\"color:green\">(success).</strong>"
      ],
      "text/plain": [
       "<IPython.core.display.HTML object>"
      ]
     },
     "metadata": {},
     "output_type": "display_data"
    },
    {
     "data": {
      "text/html": [
       "<style>\n",
       "    table.wandb td:nth-child(1) { padding: 0 10px; text-align: left ; width: auto;} td:nth-child(2) {text-align: left ; width: 100%}\n",
       "    .wandb-row { display: flex; flex-direction: row; flex-wrap: wrap; justify-content: flex-start; width: 100% }\n",
       "    .wandb-col { display: flex; flex-direction: column; flex-basis: 100%; flex: 1; padding: 10px; }\n",
       "    </style>\n",
       "<div class=\"wandb-row\"><div class=\"wandb-col\"><h3>Run history:</h3><br/><table class=\"wandb\"><tr><td>best top1 acc</td><td>▁▂▂▂▆▇▇▇▇███████████████████████████████</td></tr><tr><td>epoch</td><td>▁▁▁▁▂▂▂▂▂▃▃▃▃▃▃▄▄▄▄▄▅▅▅▅▅▅▆▆▆▆▆▆▇▇▇▇▇███</td></tr><tr><td>eval_loss</td><td>█▆▆▆▄▃▃▂▂▂▂▂▂▂▂▂▂▂▁▂▂▂▂▁▁▁▁▁▁▁▁▁▁▁▁▁▁▁▁▁</td></tr><tr><td>lr</td><td>███████▇▇▇▇▇▆▆▆▅▅▅▅▄▄▄▃▃▃▂▂▂▂▂▁▁▁▁▁▁▁▁▁▁</td></tr><tr><td>threshold</td><td>▁▁▁▁▁▁▁▁▁▁▁▁▁▁▁▁▁▁▁▁▁▁▁▁▁▁▁▁▁▁▁▁▁▁▁▁▁▁▁▁</td></tr><tr><td>top1_acc</td><td>▁▂▂▂▆▇▇▇▇█▇▇██▇▇████▇▇██▇███████████████</td></tr><tr><td>train_loss</td><td>█▃▂▂▂▂▂▂▂▂▂▂▂▂▂▂▂▂▂▂▂▂▂▂▂▂▁▂▁▁▁▁▁▁▁▁▁▁▁▁</td></tr></table><br/></div><div class=\"wandb-col\"><h3>Run summary:</h3><br/><table class=\"wandb\"><tr><td>best top1 acc</td><td>0.66325</td></tr><tr><td>epoch</td><td>50</td></tr><tr><td>eval_loss</td><td>0.60922</td></tr><tr><td>lr</td><td>0.001</td></tr><tr><td>threshold</td><td>0.5</td></tr><tr><td>top1_acc</td><td>0.66325</td></tr><tr><td>train_loss</td><td>0.60777</td></tr></table><br/></div></div>"
      ],
      "text/plain": [
       "<IPython.core.display.HTML object>"
      ]
     },
     "metadata": {},
     "output_type": "display_data"
    },
    {
     "data": {
      "text/html": [
       " View run <strong style=\"color:#cdcd00\">1722846903</strong> at: <a href='https://wandb.ai/beryex/STATS-Project-new-resnet34/runs/1722846903' target=\"_blank\">https://wandb.ai/beryex/STATS-Project-new-resnet34/runs/1722846903</a><br/>Synced 6 W&B file(s), 0 media file(s), 0 artifact file(s) and 0 other file(s)"
      ],
      "text/plain": [
       "<IPython.core.display.HTML object>"
      ]
     },
     "metadata": {},
     "output_type": "display_data"
    },
    {
     "data": {
      "text/html": [
       "Find logs at: <code>.\\wandb\\run-20240805_013503-1722846903\\logs</code>"
      ],
      "text/plain": [
       "<IPython.core.display.HTML object>"
      ]
     },
     "metadata": {},
     "output_type": "display_data"
    },
    {
     "name": "stdout",
     "output_type": "stream",
     "text": [
      "Seed 120 has best_acc: 0.6632453400157907\n"
     ]
    },
    {
     "data": {
      "text/html": [
       "wandb version 0.17.5 is available!  To upgrade, please run:\n",
       " $ pip install wandb --upgrade"
      ],
      "text/plain": [
       "<IPython.core.display.HTML object>"
      ]
     },
     "metadata": {},
     "output_type": "display_data"
    },
    {
     "data": {
      "text/html": [
       "Tracking run with wandb version 0.15.12"
      ],
      "text/plain": [
       "<IPython.core.display.HTML object>"
      ]
     },
     "metadata": {},
     "output_type": "display_data"
    },
    {
     "data": {
      "text/html": [
       "Run data is saved locally in <code>c:\\Users\\A\\OneDrive\\桌面\\UniversityFiles\\STATS 202\\Final Project\\wandb\\run-20240805_013618-1722846978</code>"
      ],
      "text/plain": [
       "<IPython.core.display.HTML object>"
      ]
     },
     "metadata": {},
     "output_type": "display_data"
    },
    {
     "data": {
      "text/html": [
       "Syncing run <strong><a href='https://wandb.ai/beryex/STATS-Project-new-resnet34/runs/1722846978' target=\"_blank\">1722846978</a></strong> to <a href='https://wandb.ai/beryex/STATS-Project-new-resnet34' target=\"_blank\">Weights & Biases</a> (<a href='https://wandb.me/run' target=\"_blank\">docs</a>)<br/>"
      ],
      "text/plain": [
       "<IPython.core.display.HTML object>"
      ]
     },
     "metadata": {},
     "output_type": "display_data"
    },
    {
     "data": {
      "text/html": [
       " View project at <a href='https://wandb.ai/beryex/STATS-Project-new-resnet34' target=\"_blank\">https://wandb.ai/beryex/STATS-Project-new-resnet34</a>"
      ],
      "text/plain": [
       "<IPython.core.display.HTML object>"
      ]
     },
     "metadata": {},
     "output_type": "display_data"
    },
    {
     "data": {
      "text/html": [
       " View run at <a href='https://wandb.ai/beryex/STATS-Project-new-resnet34/runs/1722846978' target=\"_blank\">https://wandb.ai/beryex/STATS-Project-new-resnet34/runs/1722846978</a>"
      ],
      "text/plain": [
       "<IPython.core.display.HTML object>"
      ]
     },
     "metadata": {},
     "output_type": "display_data"
    },
    {
     "name": "stderr",
     "output_type": "stream",
     "text": [
      "Training: 100%|██████████| 50/50 [00:57<00:00,  1.15s/epoch, Train loss=0.604, overall_best_acc=4.66, Best top1 acc=0.661, Top1 acc=0.66] \n"
     ]
    },
    {
     "data": {
      "text/html": [
       "Waiting for W&B process to finish... <strong style=\"color:green\">(success).</strong>"
      ],
      "text/plain": [
       "<IPython.core.display.HTML object>"
      ]
     },
     "metadata": {},
     "output_type": "display_data"
    },
    {
     "data": {
      "text/html": [
       "<style>\n",
       "    table.wandb td:nth-child(1) { padding: 0 10px; text-align: left ; width: auto;} td:nth-child(2) {text-align: left ; width: 100%}\n",
       "    .wandb-row { display: flex; flex-direction: row; flex-wrap: wrap; justify-content: flex-start; width: 100% }\n",
       "    .wandb-col { display: flex; flex-direction: column; flex-basis: 100%; flex: 1; padding: 10px; }\n",
       "    </style>\n",
       "<div class=\"wandb-row\"><div class=\"wandb-col\"><h3>Run history:</h3><br/><table class=\"wandb\"><tr><td>best top1 acc</td><td>▁▁▁▁▅▅▇▇▇▇▇▇▇▇▇▇▇▇▇▇▇███████████████████</td></tr><tr><td>epoch</td><td>▁▁▁▁▂▂▂▂▂▃▃▃▃▃▃▄▄▄▄▄▅▅▅▅▅▅▆▆▆▆▆▆▇▇▇▇▇███</td></tr><tr><td>eval_loss</td><td>▆█▇▇▆▆▂▃▃▂▂▂▂▂▂▃▂▂▂▂▂▁▂▂▂▁▁▁▁▁▁▁▁▁▁▁▁▁▁▁</td></tr><tr><td>lr</td><td>███████▇▇▇▇▇▆▆▆▅▅▅▅▄▄▄▃▃▃▂▂▂▂▂▁▁▁▁▁▁▁▁▁▁</td></tr><tr><td>threshold</td><td>▁▁▁▁▁▁▁▁▁▁▁▁▁▁▁▁▁▁▁▁▁▁▁▁▁▁▁▁▁▁▁▁▁▁▁▁▁▁▁▁</td></tr><tr><td>top1_acc</td><td>▂▁▁▂▅▂▇▇▇▇▇▇▇▇▇▇▇▇▇▇▇███▇▇██▇█▇█████████</td></tr><tr><td>train_loss</td><td>█▂▂▂▂▂▂▂▂▂▂▂▂▂▂▂▂▂▂▂▂▂▂▂▂▂▂▁▁▁▁▁▁▁▁▁▁▁▁▁</td></tr></table><br/></div><div class=\"wandb-col\"><h3>Run summary:</h3><br/><table class=\"wandb\"><tr><td>best top1 acc</td><td>0.66139</td></tr><tr><td>epoch</td><td>50</td></tr><tr><td>eval_loss</td><td>0.61415</td></tr><tr><td>lr</td><td>0.001</td></tr><tr><td>threshold</td><td>0.5</td></tr><tr><td>top1_acc</td><td>0.65961</td></tr><tr><td>train_loss</td><td>0.60358</td></tr></table><br/></div></div>"
      ],
      "text/plain": [
       "<IPython.core.display.HTML object>"
      ]
     },
     "metadata": {},
     "output_type": "display_data"
    },
    {
     "data": {
      "text/html": [
       " View run <strong style=\"color:#cdcd00\">1722846978</strong> at: <a href='https://wandb.ai/beryex/STATS-Project-new-resnet34/runs/1722846978' target=\"_blank\">https://wandb.ai/beryex/STATS-Project-new-resnet34/runs/1722846978</a><br/>Synced 6 W&B file(s), 0 media file(s), 0 artifact file(s) and 0 other file(s)"
      ],
      "text/plain": [
       "<IPython.core.display.HTML object>"
      ]
     },
     "metadata": {},
     "output_type": "display_data"
    },
    {
     "data": {
      "text/html": [
       "Find logs at: <code>.\\wandb\\run-20240805_013618-1722846978\\logs</code>"
      ],
      "text/plain": [
       "<IPython.core.display.HTML object>"
      ]
     },
     "metadata": {},
     "output_type": "display_data"
    },
    {
     "name": "stdout",
     "output_type": "stream",
     "text": [
      "Seed 150 has best_acc: 0.6613916446397309\n"
     ]
    },
    {
     "data": {
      "text/html": [
       "wandb version 0.17.5 is available!  To upgrade, please run:\n",
       " $ pip install wandb --upgrade"
      ],
      "text/plain": [
       "<IPython.core.display.HTML object>"
      ]
     },
     "metadata": {},
     "output_type": "display_data"
    },
    {
     "data": {
      "text/html": [
       "Tracking run with wandb version 0.15.12"
      ],
      "text/plain": [
       "<IPython.core.display.HTML object>"
      ]
     },
     "metadata": {},
     "output_type": "display_data"
    },
    {
     "data": {
      "text/html": [
       "Run data is saved locally in <code>c:\\Users\\A\\OneDrive\\桌面\\UniversityFiles\\STATS 202\\Final Project\\wandb\\run-20240805_013731-1722847051</code>"
      ],
      "text/plain": [
       "<IPython.core.display.HTML object>"
      ]
     },
     "metadata": {},
     "output_type": "display_data"
    },
    {
     "data": {
      "text/html": [
       "Syncing run <strong><a href='https://wandb.ai/beryex/STATS-Project-new-resnet34/runs/1722847051' target=\"_blank\">1722847051</a></strong> to <a href='https://wandb.ai/beryex/STATS-Project-new-resnet34' target=\"_blank\">Weights & Biases</a> (<a href='https://wandb.me/run' target=\"_blank\">docs</a>)<br/>"
      ],
      "text/plain": [
       "<IPython.core.display.HTML object>"
      ]
     },
     "metadata": {},
     "output_type": "display_data"
    },
    {
     "data": {
      "text/html": [
       " View project at <a href='https://wandb.ai/beryex/STATS-Project-new-resnet34' target=\"_blank\">https://wandb.ai/beryex/STATS-Project-new-resnet34</a>"
      ],
      "text/plain": [
       "<IPython.core.display.HTML object>"
      ]
     },
     "metadata": {},
     "output_type": "display_data"
    },
    {
     "data": {
      "text/html": [
       " View run at <a href='https://wandb.ai/beryex/STATS-Project-new-resnet34/runs/1722847051' target=\"_blank\">https://wandb.ai/beryex/STATS-Project-new-resnet34/runs/1722847051</a>"
      ],
      "text/plain": [
       "<IPython.core.display.HTML object>"
      ]
     },
     "metadata": {},
     "output_type": "display_data"
    },
    {
     "name": "stderr",
     "output_type": "stream",
     "text": [
      "Training:  68%|██████▊   | 34/50 [00:39<00:18,  1.18s/epoch, Train loss=0.614, overall_best_acc=5.32, Best top1 acc=0.663, Top1 acc=0.663]"
     ]
    },
    {
     "name": "stdout",
     "output_type": "stream",
     "text": [
      "Best model stored to output_models/best_model.pth\n"
     ]
    },
    {
     "name": "stderr",
     "output_type": "stream",
     "text": [
      "Training:  82%|████████▏ | 41/50 [00:47<00:10,  1.14s/epoch, Train loss=0.609, overall_best_acc=5.32, Best top1 acc=0.665, Top1 acc=0.665]"
     ]
    },
    {
     "name": "stdout",
     "output_type": "stream",
     "text": [
      "Best model stored to output_models/best_model.pth\n"
     ]
    },
    {
     "name": "stderr",
     "output_type": "stream",
     "text": [
      "Training:  86%|████████▌ | 43/50 [00:49<00:08,  1.15s/epoch, Train loss=0.608, overall_best_acc=5.32, Best top1 acc=0.666, Top1 acc=0.665]"
     ]
    },
    {
     "name": "stdout",
     "output_type": "stream",
     "text": [
      "Best model stored to output_models/best_model.pth\n"
     ]
    },
    {
     "name": "stderr",
     "output_type": "stream",
     "text": [
      "Training:  90%|█████████ | 45/50 [00:52<00:05,  1.17s/epoch, Train loss=0.607, overall_best_acc=5.32, Best top1 acc=0.666, Top1 acc=0.666]"
     ]
    },
    {
     "name": "stdout",
     "output_type": "stream",
     "text": [
      "Best model stored to output_models/best_model.pth\n"
     ]
    },
    {
     "name": "stderr",
     "output_type": "stream",
     "text": [
      "Training: 100%|██████████| 50/50 [00:58<00:00,  1.17s/epoch, Train loss=0.607, overall_best_acc=5.32, Best top1 acc=0.667, Top1 acc=0.667]\n"
     ]
    },
    {
     "data": {
      "text/html": [
       "Waiting for W&B process to finish... <strong style=\"color:green\">(success).</strong>"
      ],
      "text/plain": [
       "<IPython.core.display.HTML object>"
      ]
     },
     "metadata": {},
     "output_type": "display_data"
    },
    {
     "data": {
      "text/html": [
       "<style>\n",
       "    table.wandb td:nth-child(1) { padding: 0 10px; text-align: left ; width: auto;} td:nth-child(2) {text-align: left ; width: 100%}\n",
       "    .wandb-row { display: flex; flex-direction: row; flex-wrap: wrap; justify-content: flex-start; width: 100% }\n",
       "    .wandb-col { display: flex; flex-direction: column; flex-basis: 100%; flex: 1; padding: 10px; }\n",
       "    </style>\n",
       "<div class=\"wandb-row\"><div class=\"wandb-col\"><h3>Run history:</h3><br/><table class=\"wandb\"><tr><td>best top1 acc</td><td>▁▁▁▁▁▆▆▆▇▇▇▇▇▇▇▇▇▇▇▇▇▇▇▇▇███████████████</td></tr><tr><td>epoch</td><td>▁▁▁▁▂▂▂▂▂▃▃▃▃▃▃▄▄▄▄▄▅▅▅▅▅▅▆▆▆▆▆▆▇▇▇▇▇███</td></tr><tr><td>eval_loss</td><td>▆██▇▆▄▂▂▂▃▂▂▂▂▂▂▂▁▂▂▂▂▂▁▂▁▂▁▂▁▁▁▁▁▁▁▁▁▁▁</td></tr><tr><td>lr</td><td>███████▇▇▇▇▇▆▆▆▅▅▅▅▄▄▄▃▃▃▂▂▂▂▂▁▁▁▁▁▁▁▁▁▁</td></tr><tr><td>threshold</td><td>▁▁▁▁▁▁▁▁▁▁▁▁▁▁▁▁▁▁▁▁▁▁▁▁▁▁▁▁▁▁▁▁▁▁▁▁▁▁▁▁</td></tr><tr><td>top1_acc</td><td>▄▁▁▁▃▇▇▇▇▇█▇▇▇▇▇▇█▇▇▇▇▇█▇███████████████</td></tr><tr><td>train_loss</td><td>█▃▂▂▂▂▂▂▂▂▂▂▂▂▂▂▂▂▂▂▂▂▂▂▂▂▂▂▁▁▁▁▁▁▁▁▁▁▁▁</td></tr></table><br/></div><div class=\"wandb-col\"><h3>Run summary:</h3><br/><table class=\"wandb\"><tr><td>best top1 acc</td><td>0.66716</td></tr><tr><td>epoch</td><td>50</td></tr><tr><td>eval_loss</td><td>0.60928</td></tr><tr><td>lr</td><td>0.001</td></tr><tr><td>threshold</td><td>0.5</td></tr><tr><td>top1_acc</td><td>0.66671</td></tr><tr><td>train_loss</td><td>0.60685</td></tr></table><br/></div></div>"
      ],
      "text/plain": [
       "<IPython.core.display.HTML object>"
      ]
     },
     "metadata": {},
     "output_type": "display_data"
    },
    {
     "data": {
      "text/html": [
       " View run <strong style=\"color:#cdcd00\">1722847051</strong> at: <a href='https://wandb.ai/beryex/STATS-Project-new-resnet34/runs/1722847051' target=\"_blank\">https://wandb.ai/beryex/STATS-Project-new-resnet34/runs/1722847051</a><br/>Synced 6 W&B file(s), 0 media file(s), 0 artifact file(s) and 0 other file(s)"
      ],
      "text/plain": [
       "<IPython.core.display.HTML object>"
      ]
     },
     "metadata": {},
     "output_type": "display_data"
    },
    {
     "data": {
      "text/html": [
       "Find logs at: <code>.\\wandb\\run-20240805_013731-1722847051\\logs</code>"
      ],
      "text/plain": [
       "<IPython.core.display.HTML object>"
      ]
     },
     "metadata": {},
     "output_type": "display_data"
    },
    {
     "name": "stdout",
     "output_type": "stream",
     "text": [
      "Seed 180 has best_acc: 0.667158696920806\n"
     ]
    },
    {
     "data": {
      "text/html": [
       "wandb version 0.17.5 is available!  To upgrade, please run:\n",
       " $ pip install wandb --upgrade"
      ],
      "text/plain": [
       "<IPython.core.display.HTML object>"
      ]
     },
     "metadata": {},
     "output_type": "display_data"
    },
    {
     "data": {
      "text/html": [
       "Tracking run with wandb version 0.15.12"
      ],
      "text/plain": [
       "<IPython.core.display.HTML object>"
      ]
     },
     "metadata": {},
     "output_type": "display_data"
    },
    {
     "data": {
      "text/html": [
       "Run data is saved locally in <code>c:\\Users\\A\\OneDrive\\桌面\\UniversityFiles\\STATS 202\\Final Project\\wandb\\run-20240805_013846-1722847126</code>"
      ],
      "text/plain": [
       "<IPython.core.display.HTML object>"
      ]
     },
     "metadata": {},
     "output_type": "display_data"
    },
    {
     "data": {
      "text/html": [
       "Syncing run <strong><a href='https://wandb.ai/beryex/STATS-Project-new-resnet34/runs/1722847126' target=\"_blank\">1722847126</a></strong> to <a href='https://wandb.ai/beryex/STATS-Project-new-resnet34' target=\"_blank\">Weights & Biases</a> (<a href='https://wandb.me/run' target=\"_blank\">docs</a>)<br/>"
      ],
      "text/plain": [
       "<IPython.core.display.HTML object>"
      ]
     },
     "metadata": {},
     "output_type": "display_data"
    },
    {
     "data": {
      "text/html": [
       " View project at <a href='https://wandb.ai/beryex/STATS-Project-new-resnet34' target=\"_blank\">https://wandb.ai/beryex/STATS-Project-new-resnet34</a>"
      ],
      "text/plain": [
       "<IPython.core.display.HTML object>"
      ]
     },
     "metadata": {},
     "output_type": "display_data"
    },
    {
     "data": {
      "text/html": [
       " View run at <a href='https://wandb.ai/beryex/STATS-Project-new-resnet34/runs/1722847126' target=\"_blank\">https://wandb.ai/beryex/STATS-Project-new-resnet34/runs/1722847126</a>"
      ],
      "text/plain": [
       "<IPython.core.display.HTML object>"
      ]
     },
     "metadata": {},
     "output_type": "display_data"
    },
    {
     "name": "stderr",
     "output_type": "stream",
     "text": [
      "Training: 100%|██████████| 50/50 [00:58<00:00,  1.16s/epoch, Train loss=0.605, overall_best_acc=5.99, Best top1 acc=0.662, Top1 acc=0.661]\n"
     ]
    },
    {
     "data": {
      "text/html": [
       "Waiting for W&B process to finish... <strong style=\"color:green\">(success).</strong>"
      ],
      "text/plain": [
       "<IPython.core.display.HTML object>"
      ]
     },
     "metadata": {},
     "output_type": "display_data"
    },
    {
     "data": {
      "text/html": [
       "<style>\n",
       "    table.wandb td:nth-child(1) { padding: 0 10px; text-align: left ; width: auto;} td:nth-child(2) {text-align: left ; width: 100%}\n",
       "    .wandb-row { display: flex; flex-direction: row; flex-wrap: wrap; justify-content: flex-start; width: 100% }\n",
       "    .wandb-col { display: flex; flex-direction: column; flex-basis: 100%; flex: 1; padding: 10px; }\n",
       "    </style>\n",
       "<div class=\"wandb-row\"><div class=\"wandb-col\"><h3>Run history:</h3><br/><table class=\"wandb\"><tr><td>best top1 acc</td><td>▁▄▄▄████████████████████████████████████</td></tr><tr><td>epoch</td><td>▁▁▁▁▂▂▂▂▂▃▃▃▃▃▃▄▄▄▄▄▅▅▅▅▅▅▆▆▆▆▆▆▇▇▇▇▇███</td></tr><tr><td>eval_loss</td><td>█▇▇▇▅▅▃▂▂▂▂▂▂▂▂▂▂▂▂▂▂▂▂▁▂▂▁▁▁▁▁▁▁▁▁▁▁▁▁▁</td></tr><tr><td>lr</td><td>███████▇▇▇▇▇▆▆▆▅▅▅▅▄▄▄▃▃▃▂▂▂▂▂▁▁▁▁▁▁▁▁▁▁</td></tr><tr><td>threshold</td><td>▁▁▁▁▁▁▁▁▁▁▁▁▁▁▁▁▁▁▁▁▁▁▁▁▁▁▁▁▁▁▁▁▁▁▁▁▁▁▁▁</td></tr><tr><td>top1_acc</td><td>▁▄▃▃█▅█▇██████▇██▇███▇███▇██████████████</td></tr><tr><td>train_loss</td><td>█▄▂▂▂▂▂▂▂▂▂▂▂▂▂▂▂▂▂▂▂▂▂▂▂▂▂▁▁▁▁▁▁▁▁▁▁▁▁▁</td></tr></table><br/></div><div class=\"wandb-col\"><h3>Run summary:</h3><br/><table class=\"wandb\"><tr><td>best top1 acc</td><td>0.66173</td></tr><tr><td>epoch</td><td>50</td></tr><tr><td>eval_loss</td><td>0.61132</td></tr><tr><td>lr</td><td>0.001</td></tr><tr><td>threshold</td><td>0.5</td></tr><tr><td>top1_acc</td><td>0.66074</td></tr><tr><td>train_loss</td><td>0.60502</td></tr></table><br/></div></div>"
      ],
      "text/plain": [
       "<IPython.core.display.HTML object>"
      ]
     },
     "metadata": {},
     "output_type": "display_data"
    },
    {
     "data": {
      "text/html": [
       " View run <strong style=\"color:#cdcd00\">1722847126</strong> at: <a href='https://wandb.ai/beryex/STATS-Project-new-resnet34/runs/1722847126' target=\"_blank\">https://wandb.ai/beryex/STATS-Project-new-resnet34/runs/1722847126</a><br/>Synced 6 W&B file(s), 0 media file(s), 0 artifact file(s) and 0 other file(s)"
      ],
      "text/plain": [
       "<IPython.core.display.HTML object>"
      ]
     },
     "metadata": {},
     "output_type": "display_data"
    },
    {
     "data": {
      "text/html": [
       "Find logs at: <code>.\\wandb\\run-20240805_013846-1722847126\\logs</code>"
      ],
      "text/plain": [
       "<IPython.core.display.HTML object>"
      ]
     },
     "metadata": {},
     "output_type": "display_data"
    },
    {
     "name": "stdout",
     "output_type": "stream",
     "text": [
      "Seed 200 has best_acc: 0.6617349215612235\n",
      "0.665456043390203\n",
      "0.667158696920806\n",
      "0\n",
      "0\n",
      "50\n"
     ]
    }
   ],
   "source": [
    "\"\"\" Modeling using Neural Network \"\"\"\n",
    "def torch_set_random_seed(seed: int = 1) -> None:\n",
    "    \"\"\" Set random seed for reproducible usage \"\"\"\n",
    "    os.environ['PYTHONHASHSEED'] = str(seed)\n",
    "    random.seed(seed)\n",
    "    np.random.seed(seed)\n",
    "    torch.manual_seed(seed)\n",
    "    torch.cuda.manual_seed(seed)\n",
    "    torch.cuda.manual_seed_all(seed)\n",
    "    torch.backends.cudnn.benchmark = False\n",
    "    torch.backends.cudnn.deterministic = True\n",
    "\n",
    "\n",
    "class WarmUpLR(_LRScheduler):\n",
    "    # The fuction is adapted from https://github.com/weiaicunzai/pytorch-cifar100/blob/master/utils.py\n",
    "    # author: baiyu\n",
    "    \"\"\" Warmup_training learning rate scheduler \"\"\"\n",
    "    def __init__(self, optimizer, total_iters, last_epoch=-1):\n",
    "\n",
    "        self.total_iters = total_iters\n",
    "        super().__init__(optimizer, last_epoch)\n",
    "\n",
    "    def get_lr(self):\n",
    "        \"\"\" Fpr first m batches, and set the learning rate to base_lr * m / total_iters \"\"\"\n",
    "        return [base_lr * self.last_epoch / (self.total_iters + 1e-8) for base_lr in self.base_lrs]\n",
    "\n",
    "\n",
    "def train(model: nn.Module, \n",
    "          train_loader: DataLoader, \n",
    "          loss_function: nn.Module,\n",
    "          optimizer: optim.Optimizer,\n",
    "          lr_scheduler_warmup: WarmUpLR,\n",
    "          warm: int,\n",
    "          epoch: int,\n",
    "          device: str) -> float:\n",
    "    \"\"\" Train model and save using early stop on test dataset \"\"\"\n",
    "    model.train()\n",
    "    train_loss = 0.0\n",
    "    for features, labels in train_loader:\n",
    "        features = features.to(device)\n",
    "        labels = labels.to(device)\n",
    "\n",
    "        optimizer.zero_grad()\n",
    "        outputs = model(features)\n",
    "        loss = loss_function(outputs, labels)\n",
    "        loss.backward()\n",
    "        optimizer.step()\n",
    "        train_loss += loss.item()\n",
    "\n",
    "        if epoch <= warm:\n",
    "            lr_scheduler_warmup.step()\n",
    "\n",
    "    train_loss /= len(train_loader)\n",
    "    return train_loss\n",
    "\n",
    "\n",
    "@torch.no_grad()\n",
    "def evaluate(model: nn.Module,\n",
    "             eval_loader: DataLoader, \n",
    "             loss_function: nn.Module, \n",
    "             threshold: float,\n",
    "             device: str) -> tuple[float, float]:\n",
    "    \"\"\" Evaluate model \"\"\"\n",
    "    model.eval()\n",
    "    correct = 0.0\n",
    "    total = 0\n",
    "    total_loss = 0.0\n",
    "\n",
    "    with torch.no_grad():\n",
    "        for features, labels in eval_loader:\n",
    "            features = features.to(device)\n",
    "            labels = labels.to(device)\n",
    "\n",
    "            outputs = model(features)\n",
    "            loss = loss_function(outputs, labels)\n",
    "            total_loss += loss.item()\n",
    "            \n",
    "            predicted = (torch.sigmoid(outputs) > threshold).float()\n",
    "            correct += (predicted == labels).sum().item()\n",
    "            total += labels.size(0)\n",
    "    \n",
    "    accuracy = correct / total\n",
    "    average_loss = total_loss / len(eval_loader)\n",
    "    return accuracy, average_loss\n",
    "\n",
    "\n",
    "\"\"\" Train model on dataloader \"\"\"\n",
    "model_name = \"resnet34\"\n",
    "total_epoch = 50\n",
    "initial_lr = 0\n",
    "min_lr = 0\n",
    "random_seed = 1\n",
    "split_seed = 1\n",
    "warm = 1\n",
    "\n",
    "if torch.cuda.is_available():\n",
    "    device = torch.device(\"cuda\")\n",
    "elif torch.backends.mps.is_available():\n",
    "    device = torch.device(\"mps\")\n",
    "else:\n",
    "    device = torch.device(\"cpu\")\n",
    "print(f\"Running on device: {device}\")\n",
    "\n",
    "output_dir = \"output_models\"\n",
    "overall_best_acc = 0\n",
    "optimal_initial_lr = 0\n",
    "optimal_min_lr = 0\n",
    "\n",
    "for threshold in [0.5]:\n",
    "    for initial_lr in [1e-1]:\n",
    "        for min_lr in [1e-3]:\n",
    "            best_acc = 0.0\n",
    "            for split_seed in [1, 5, 10, 20, 50, 100, 120, 150, 180, 200]:\n",
    "                torch_set_random_seed(random_seed)\n",
    "                hyperparams_config = {\n",
    "                    \"model\": model_name,\n",
    "                    \"epoch\": total_epoch,\n",
    "                    \"initial_lr\": initial_lr,\n",
    "                    \"min_lr\": min_lr,\n",
    "                    \"random_seed\": random_seed\n",
    "                }\n",
    "                wandb.init(\n",
    "                    project=f\"STATS-Project-new-{model_name}\",\n",
    "                    name=f\"{int(time.time())}\",\n",
    "                    id=str(int(time.time())),\n",
    "                    config=hyperparams_config,\n",
    "                    mode='online'\n",
    "                )\n",
    "                train_loader, val_loader, test_loader, in_channels, num_class = get_dataloader(train_dataset=train_dataset,\n",
    "                                                                                                test_dataset=test_dataset,\n",
    "                                                                                                batch_size=batch_size,\n",
    "                                                                                                val_proportion=0.375,\n",
    "                                                                                                pin_memory=True,\n",
    "                                                                                                shuffle=True,\n",
    "                                                                                                seed=split_seed,)\n",
    "                from resnet import resnet18, resnet34, resnet50, resnet101, resnet152\n",
    "                from vgg import vgg11, vgg13, vgg16, vgg19\n",
    "                from lenet import Lenet5\n",
    "                model = resnet34(in_channels, num_class).to(device)\n",
    "\n",
    "                loss_function = nn.BCEWithLogitsLoss()\n",
    "                optimizer = optim.SGD(model.parameters(), lr=initial_lr, momentum=0.9, weight_decay=1e-2)\n",
    "                lr_scheduler = optim.lr_scheduler.CosineAnnealingLR(optimizer, \n",
    "                                                                    T_max=total_epoch - 5 - warm, \n",
    "                                                                    eta_min= min_lr,\n",
    "                                                                    last_epoch=-1)\n",
    "                iter_per_epoch = len(train_loader)\n",
    "                lr_scheduler_warmup = WarmUpLR(optimizer, iter_per_epoch * warm)\n",
    "\n",
    "                cur_best_acc = 0\n",
    "                with tqdm(total=total_epoch, desc=f'Training', unit='epoch') as pbar:\n",
    "                    for epoch in range(1, total_epoch + 1):\n",
    "                        train_loss = train(model, \n",
    "                                            train_loader, \n",
    "                                            loss_function, \n",
    "                                            optimizer, \n",
    "                                            lr_scheduler_warmup,\n",
    "                                            warm,\n",
    "                                            epoch,\n",
    "                                            device)\n",
    "                        top1_acc, eval_loss = evaluate(model, \n",
    "                                                    val_loader, \n",
    "                                                    loss_function, \n",
    "                                                    threshold,\n",
    "                                                    device)\n",
    "                        if epoch <= total_epoch - 5 and epoch > warm:\n",
    "                            lr_scheduler.step()\n",
    "\n",
    "                        if cur_best_acc < top1_acc:\n",
    "                            cur_best_acc = top1_acc\n",
    "                            if best_acc < cur_best_acc:\n",
    "                                best_acc = cur_best_acc\n",
    "                                os.makedirs(f\"{output_dir}\", exist_ok=True)\n",
    "                                output_pth = f\"{output_dir}/best_model.pth\"\n",
    "                                print(f\"Best model stored to {output_pth}\")\n",
    "                                torch.save(model, output_pth)\n",
    "                        \n",
    "                        for param_group in optimizer.param_groups:\n",
    "                            lr = param_group['lr']\n",
    "                        \n",
    "                        wandb.log({\"epoch\": epoch, \"train_loss\": train_loss, 'lr': lr,\n",
    "                                   \"top1_acc\": top1_acc, \"eval_loss\": eval_loss, 'threshold': threshold,\n",
    "                                   \"best top1 acc\": cur_best_acc})\n",
    "                        \n",
    "                        pbar.set_postfix({'Train loss': train_loss, 'overall_best_acc': overall_best_acc, 'Best top1 acc': cur_best_acc, 'Top1 acc': top1_acc})\n",
    "                        pbar.update(1)\n",
    "                \n",
    "                wandb.finish()\n",
    "                print(f\"Seed {split_seed} has best_acc: {cur_best_acc}\")\n",
    "                overall_best_acc += best_acc\n",
    "\n",
    "print(overall_best_acc / 10)\n",
    "print(best_acc)\n",
    "print(optimal_initial_lr)\n",
    "print(optimal_min_lr)\n",
    "print(total_epoch)\n"
   ]
  },
  {
   "cell_type": "code",
   "execution_count": 5,
   "metadata": {},
   "outputs": [],
   "source": [
    "\"\"\" Predict on test dataset using the best model \"\"\"\n",
    "@torch.no_grad()\n",
    "def predict_and_save_results(model, test_loader, output_file, threshold):\n",
    "    model.eval() \n",
    "    results = []\n",
    "\n",
    "    with torch.no_grad():\n",
    "        for idx, features in enumerate(test_loader):\n",
    "            features = features.to(device)\n",
    "            outputs = model(features)\n",
    "            predictions = (torch.sigmoid(outputs) > threshold).float()\n",
    "\n",
    "            for idx2, prediction in enumerate(predictions):\n",
    "                sample_id = str(int(test_loader.dataset.data.iloc[idx*batch_size+idx2]['query_id'])) + str(int(test_loader.dataset.data.iloc[idx*batch_size+idx2]['url_id']))\n",
    "                results.append({'id': sample_id, 'relevance': int(prediction)})\n",
    "\n",
    "    results_df = pd.DataFrame(results)\n",
    "    results_df.to_csv(output_file, index=False)\n",
    "\n",
    "best_model = torch.load(f\"{output_dir}/best_model.pth\").to(device)\n",
    "predict_and_save_results(best_model, test_loader, OUTPUT_PREDICTION, threshold)"
   ]
  }
 ],
 "metadata": {
  "kernelspec": {
   "display_name": "Pytorch",
   "language": "python",
   "name": "python3"
  },
  "language_info": {
   "codemirror_mode": {
    "name": "ipython",
    "version": 3
   },
   "file_extension": ".py",
   "mimetype": "text/x-python",
   "name": "python",
   "nbconvert_exporter": "python",
   "pygments_lexer": "ipython3",
   "version": "3.9.18"
  }
 },
 "nbformat": 4,
 "nbformat_minor": 2
}
